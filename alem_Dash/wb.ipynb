{
 "cells": [
  {
   "cell_type": "code",
   "execution_count": 11,
   "metadata": {},
   "outputs": [
    {
     "ename": "ImportError",
     "evalue": "cannot import name 'df_ver' from 'utils.def_ver' (/home/alem/Documents/projects/alem_Dash/utils/def_ver.py)",
     "output_type": "error",
     "traceback": [
      "\u001b[0;31m---------------------------------------------------------------------------\u001b[0m",
      "\u001b[0;31mImportError\u001b[0m                               Traceback (most recent call last)",
      "\u001b[0;32m<ipython-input-11-2e62d7cc2bc8>\u001b[0m in \u001b[0;36m<module>\u001b[0;34m\u001b[0m\n\u001b[1;32m     65\u001b[0m \u001b[0;31m# user defined\u001b[0m\u001b[0;34m\u001b[0m\u001b[0;34m\u001b[0m\u001b[0;34m\u001b[0m\u001b[0m\n\u001b[1;32m     66\u001b[0m \u001b[0mpath\u001b[0m\u001b[0;34m.\u001b[0m\u001b[0mappend\u001b[0m\u001b[0;34m(\u001b[0m\u001b[0mos\u001b[0m\u001b[0;34m.\u001b[0m\u001b[0mpath\u001b[0m\u001b[0;34m.\u001b[0m\u001b[0mjoin\u001b[0m\u001b[0;34m(\u001b[0m\u001b[0mos\u001b[0m\u001b[0;34m.\u001b[0m\u001b[0mgetcwd\u001b[0m\u001b[0;34m(\u001b[0m\u001b[0;34m)\u001b[0m\u001b[0;34m,\u001b[0m\u001b[0;34m'utils/'\u001b[0m\u001b[0;34m)\u001b[0m\u001b[0;34m)\u001b[0m\u001b[0;34m\u001b[0m\u001b[0;34m\u001b[0m\u001b[0m\n\u001b[0;32m---> 67\u001b[0;31m \u001b[0;32mfrom\u001b[0m \u001b[0mutils\u001b[0m\u001b[0;34m.\u001b[0m\u001b[0mdef_ver\u001b[0m \u001b[0;32mimport\u001b[0m \u001b[0mdf_ver\u001b[0m\u001b[0;34m\u001b[0m\u001b[0;34m\u001b[0m\u001b[0m\n\u001b[0m",
      "\u001b[0;31mImportError\u001b[0m: cannot import name 'df_ver' from 'utils.def_ver' (/home/alem/Documents/projects/alem_Dash/utils/def_ver.py)"
     ]
    }
   ],
   "source": [
    "#******************************************************************************\n",
    "# Dash App Skeleton\n",
    "#******************************************************************************\n",
    "#!/usr/bin/env python3\n",
    "# -*- coding: utf-8 -*-\n",
    "ahf1=\"\"\"\n",
    "Created on Wed Jun 24 22:42:42 2020\n",
    "\n",
    "@author: alem fitwi\n",
    "\"\"\"\n",
    "#******************************************************************************\n",
    "#******************************************************************************\n",
    "# 1. Import all necessary libraries and packages \n",
    "#******************************************************************************\n",
    "#Files, I/O, regular expressions and OS\n",
    "import os\n",
    "import io\n",
    "import shutil\n",
    "import glob\n",
    "import sys\n",
    "import re\n",
    "from sys import path\n",
    "#*************************************\n",
    "# Data Structures\n",
    "import numpy as np\n",
    "import pandas as pd\n",
    "#*************************************\n",
    "# Database\n",
    "import sqlite3\n",
    "from sqlalchemy import create_engine\n",
    "from IPython.display import Image\n",
    "import base64\n",
    "#*************************************\n",
    "# Time and Dates\n",
    "import time\n",
    "from datetime import datetime as dtt\n",
    "from datetime import date,timedelta\n",
    "#*************************************\n",
    "# Dash and Dash Components\n",
    "import dash\n",
    "import dash_core_components as dcc\n",
    "import dash_html_components as html\n",
    "import plotly.graph_objs as go\n",
    "from plotly.subplots import make_subplots\n",
    "from dash.dependencies import Input, Output, State\n",
    "import dash_table as dt\n",
    "import dash_daq as daq\n",
    "import dash_auth\n",
    "#*************************************\n",
    "# Otherss\n",
    "import random\n",
    "import warnings\n",
    "warnings.simplefilter(\"ignore\")\n",
    "import platform\n",
    "import flask\n",
    "import urllib\n",
    "from math import ceil, floor\n",
    "import getpass\n",
    "import socket\n",
    "#import netifaces\n",
    "import re, uuid\n",
    "import multiprocessing\n",
    "\n",
    "#*************************************\n",
    "# user defined\n",
    "path.append(os.path.join(os.getcwd(),'utils/'))\n",
    "from utils.def_ver import df_ver"
   ]
  },
  {
   "cell_type": "code",
   "execution_count": 12,
   "metadata": {},
   "outputs": [
    {
     "data": {
      "text/plain": [
       "['/home/alem/Documents/projects/alem_Dash',\n",
       " '/home/alem/anaconda3/lib/python37.zip',\n",
       " '/home/alem/anaconda3/lib/python3.7',\n",
       " '/home/alem/anaconda3/lib/python3.7/lib-dynload',\n",
       " '',\n",
       " '/home/alem/anaconda3/lib/python3.7/site-packages',\n",
       " '/home/alem/anaconda3/lib/python3.7/site-packages/IPython/extensions',\n",
       " '/home/alem/.ipython',\n",
       " '/home/alem/Documents/projects/alem_Dash/utils/',\n",
       " '/home/alem/Documents/projects/alem_Dash/utils/',\n",
       " '/home/alem/Documents/projects/alem_Dash/utils/',\n",
       " '/home/alem/Documents/projects/alem_Dash/utils/',\n",
       " '/home/alem/Documents/projects/alem_Dash/utils/']"
      ]
     },
     "execution_count": 12,
     "metadata": {},
     "output_type": "execute_result"
    }
   ],
   "source": [
    "path"
   ]
  },
  {
   "cell_type": "code",
   "execution_count": 7,
   "metadata": {},
   "outputs": [],
   "source": [
    "#******************************************************************************\n",
    "#******************************************************************************\n",
    "# 2. System and Python Information\n",
    "#******************************************************************************\n",
    "# Check your systems and version of your environment\n",
    "df_ver = pd.DataFrame({'System Attribute': ['Date', 'User Name', 'System', \n",
    "                       'Node', 'Release','Version', 'Machine', 'Processor', \n",
    "                       'Python Version', '# of CPU Cores'], \n",
    "                       'Description':[dtt.now().strftime(\"%Y-%B-%d %H:%M:%S\"),\n",
    "                        platform.uname(), platform.system(),\n",
    "                        platform.node(),platform.release(), platform.version(),\n",
    "                        platform.machine(), platform.processor(),\n",
    "                        platform.python_version(), \n",
    "                        multiprocessing.cpu_count()]\n",
    "                       })"
   ]
  },
  {
   "cell_type": "code",
   "execution_count": 8,
   "metadata": {
    "scrolled": true
   },
   "outputs": [
    {
     "data": {
      "text/html": [
       "<div>\n",
       "<style scoped>\n",
       "    .dataframe tbody tr th:only-of-type {\n",
       "        vertical-align: middle;\n",
       "    }\n",
       "\n",
       "    .dataframe tbody tr th {\n",
       "        vertical-align: top;\n",
       "    }\n",
       "\n",
       "    .dataframe thead th {\n",
       "        text-align: right;\n",
       "    }\n",
       "</style>\n",
       "<table border=\"1\" class=\"dataframe\">\n",
       "  <thead>\n",
       "    <tr style=\"text-align: right;\">\n",
       "      <th></th>\n",
       "      <th>System Attribute</th>\n",
       "      <th>Description</th>\n",
       "    </tr>\n",
       "  </thead>\n",
       "  <tbody>\n",
       "    <tr>\n",
       "      <th>0</th>\n",
       "      <td>Date</td>\n",
       "      <td>2022-May-08 15:52:51</td>\n",
       "    </tr>\n",
       "    <tr>\n",
       "      <th>1</th>\n",
       "      <td>User Name</td>\n",
       "      <td>(Linux, alem-Legion-S7-15ACH6, 5.13.0-35-gener...</td>\n",
       "    </tr>\n",
       "    <tr>\n",
       "      <th>2</th>\n",
       "      <td>System</td>\n",
       "      <td>Linux</td>\n",
       "    </tr>\n",
       "    <tr>\n",
       "      <th>3</th>\n",
       "      <td>Node</td>\n",
       "      <td>alem-Legion-S7-15ACH6</td>\n",
       "    </tr>\n",
       "    <tr>\n",
       "      <th>4</th>\n",
       "      <td>Release</td>\n",
       "      <td>5.13.0-35-generic</td>\n",
       "    </tr>\n",
       "    <tr>\n",
       "      <th>5</th>\n",
       "      <td>Version</td>\n",
       "      <td>#40~20.04.1-Ubuntu SMP Mon Mar 7 09:18:32 UTC ...</td>\n",
       "    </tr>\n",
       "    <tr>\n",
       "      <th>6</th>\n",
       "      <td>Machine</td>\n",
       "      <td>x86_64</td>\n",
       "    </tr>\n",
       "    <tr>\n",
       "      <th>7</th>\n",
       "      <td>Processor</td>\n",
       "      <td>x86_64</td>\n",
       "    </tr>\n",
       "    <tr>\n",
       "      <th>8</th>\n",
       "      <td>Python Version</td>\n",
       "      <td>3.7.6</td>\n",
       "    </tr>\n",
       "    <tr>\n",
       "      <th>9</th>\n",
       "      <td># of CPU Cores</td>\n",
       "      <td>16</td>\n",
       "    </tr>\n",
       "  </tbody>\n",
       "</table>\n",
       "</div>"
      ],
      "text/plain": [
       "  System Attribute                                        Description\n",
       "0             Date                               2022-May-08 15:52:51\n",
       "1        User Name  (Linux, alem-Legion-S7-15ACH6, 5.13.0-35-gener...\n",
       "2           System                                              Linux\n",
       "3             Node                              alem-Legion-S7-15ACH6\n",
       "4          Release                                  5.13.0-35-generic\n",
       "5          Version  #40~20.04.1-Ubuntu SMP Mon Mar 7 09:18:32 UTC ...\n",
       "6          Machine                                             x86_64\n",
       "7        Processor                                             x86_64\n",
       "8   Python Version                                              3.7.6\n",
       "9   # of CPU Cores                                                 16"
      ]
     },
     "execution_count": 8,
     "metadata": {},
     "output_type": "execute_result"
    }
   ],
   "source": [
    "df_ver"
   ]
  },
  {
   "cell_type": "code",
   "execution_count": null,
   "metadata": {},
   "outputs": [],
   "source": []
  }
 ],
 "metadata": {
  "kernelspec": {
   "display_name": "Python 3",
   "language": "python",
   "name": "python3"
  },
  "language_info": {
   "codemirror_mode": {
    "name": "ipython",
    "version": 3
   },
   "file_extension": ".py",
   "mimetype": "text/x-python",
   "name": "python",
   "nbconvert_exporter": "python",
   "pygments_lexer": "ipython3",
   "version": "3.7.6"
  }
 },
 "nbformat": 4,
 "nbformat_minor": 4
}
